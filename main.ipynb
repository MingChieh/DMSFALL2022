{
  "nbformat": 4,
  "nbformat_minor": 0,
  "metadata": {
    "colab": {
      "provenance": []
    },
    "kernelspec": {
      "name": "python3",
      "display_name": "Python 3"
    },
    "language_info": {
      "name": "python"
    }
  },
  "cells": [
    {
      "cell_type": "code",
      "source": [
        "#Download the desired package(s)\n",
        "!curl -O https://download.microsoft.com/download/8/6/8/868e5fc4-7bfe-494d-8f9d-115cbcdb52ae/msodbcsql18_18.1.2.1-1_amd64.apk\n",
        "!curl -O https://download.microsoft.com/download/8/6/8/868e5fc4-7bfe-494d-8f9d-115cbcdb52ae/mssql-tools18_18.1.1.1-1_amd64.apk\n",
        "\n",
        "\n",
        "!curl -O https://download.microsoft.com/download/8/6/8/868e5fc4-7bfe-494d-8f9d-115cbcdb52ae/msodbcsql18_18.1.2.1-1_amd64.sig\n",
        "!curl -O https://download.microsoft.com/download/8/6/8/868e5fc4-7bfe-494d-8f9d-115cbcdb52ae/mssql-tools18_18.1.1.1-1_amd64.sig\n",
        "\n",
        "!curl https://packages.microsoft.com/keys/microsoft.asc  | gpg --import -\n",
        "!gpg --verify msodbcsql18_18.1.2.1-1_amd64.sig msodbcsql18_18.1.2.1-1_amd64.apk\n",
        "!gpg --verify mssql-tools18_18.1.1.1-1_amd64.sig mssql-tools18_18.1.1.1-1_amd64.apk\n",
        "\n",
        "\n",
        "!sudo apk add --allow-untrusted msodbcsql18_18.1.2.1-1_amd64.apk\n",
        "!sudo apk add --allow-untrusted mssql-tools18_18.1.1.1-1_amd64.apk\n",
        "\n",
        "!sudo apt-get install unixodbc-dev\n",
        "!pip install pyodbc\n",
        "!pip install chart_studio\n",
        "\n",
        "!curl https://packages.microsoft.com/keys/microsoft.asc | apt-key add -\n",
        "!curl https://packages.microsoft.com/config/ubuntu/16.04/prod.list > /etc/apt/sources.list.d/mssql-release.list\n",
        "!sudo apt-get update\n",
        "!sudo ACCEPT_EULA=Y apt-get -q -y install msodbcsql17\n",
        "\n",
        "import pyodbc"
      ],
      "metadata": {
        "id": "832NfzEGA8ko"
      },
      "execution_count": null,
      "outputs": []
    },
    {
      "cell_type": "code",
      "source": [
        "import pyodbc\n",
        "server = 'nyudb.database.windows.net'\n",
        "database = 'Taxi'\n",
        "username = 'nyuadmin'\n",
        "password = '{mingchieh112569@}'\n",
        "driver= '{ODBC Driver 17 for SQL Server}'\n",
        "\n",
        "with pyodbc.connect('DRIVER='+driver+';SERVER=tcp:'+server+';PORT=1433;DATABASE='+database+';UID='+username+';PWD='+ password) as conn:\n",
        "    with conn.cursor() as cursor:\n",
        "        cursor.execute(\"SELECT TOP 3 name, collation_name FROM sys.databases\")\n",
        "        row = cursor.fetchone()\n",
        "        while row:\n",
        "            print (str(row[0]) + \" \" + str(row[1]))\n",
        "            row = cursor.fetchone()"
      ],
      "metadata": {
        "id": "guRAiVM47Faz"
      },
      "execution_count": null,
      "outputs": []
    },
    {
      "cell_type": "code",
      "source": [
        "cnxn = pyodbc.connect('DRIVER='+driver+';PORT=1433;SERVER='+server+';PORT=1443;DATABASE='+database+';UID='+username+';PWD='+ password)\n",
        "cursor = cnxn.cursor()"
      ],
      "metadata": {
        "id": "Jtlc1VoBEQ-v"
      },
      "execution_count": 27,
      "outputs": []
    },
    {
      "cell_type": "code",
      "source": [
        "cursor.execute(\"SELECT Passenger.First_Name, Passenger.last_name from Passenger Where Passenger.PassengerID in (SELECT RidePassenger.PassengerID FROM RidePassenger, Trips Where Trips.rowID = RidePassenger.TripID)\")\n",
        "row = cursor.fetchone()\n",
        "while row:\n",
        "    print(row)\n",
        "    row = cursor.fetchone()"
      ],
      "metadata": {
        "id": "9hclQzJAEUja"
      },
      "execution_count": 65,
      "outputs": []
    },
    {
      "cell_type": "code",
      "source": [
        "ML_model_filepath = \"\""
      ],
      "metadata": {
        "id": "vWuPpHZQcRp9"
      },
      "execution_count": 77,
      "outputs": []
    },
    {
      "cell_type": "code",
      "source": [
        "class DatabaseServer:\n",
        "  def __init__(self):\n",
        "    server = 'nyudb.database.windows.net'\n",
        "    database = 'Taxi'\n",
        "    username = 'nyuadmin'\n",
        "    password = '{mingchieh112569@}'\n",
        "    driver= '{ODBC Driver 17 for SQL Server}'\n",
        "    cnxn = pyodbc.connect('DRIVER='+driver+';PORT=1433;SERVER='+server+';PORT=1443;DATABASE='+database+';UID='+username+';PWD='+ password)\n",
        "    self.cursor = cnxn.cursor()\n",
        "  \n",
        "  def execute_sql_script(self, script):\n",
        "    self.cursor.execute(script)\n",
        "    row = self.cursor.fetchone()\n",
        "    while row:\n",
        "        print(row)\n",
        "        row = self.cursor.fetchone()\n",
        "\n",
        "  def show_drivers(self):\n",
        "    self.cursor.execute(f\"SELECT * FROM Driver\")\n",
        "    row = self.cursor.fetchone()\n",
        "    while row:\n",
        "        print(row)\n",
        "        row = self.cursor.fetchone()\n",
        "\n",
        "  def show_passengers(self):\n",
        "    self.cursor.execute(f\"SELECT * FROM Passenger\")\n",
        "    row = self.cursor.fetchone()\n",
        "    while row:\n",
        "        print(row)\n",
        "        row = self.cursor.fetchone()\n",
        "\n",
        "  def show_locations(self):\n",
        "    self.cursor.execute(f\"SELECT * FROM Location\")\n",
        "    row = self.cursor.fetchone()\n",
        "    while row:\n",
        "        print(row)\n",
        "        row = self.cursor.fetchone()\n",
        "\n",
        "  def show_trips(self):\n",
        "    self.cursor.execute(f\"SELECT * FROM Trips\")\n",
        "    row = self.cursor.fetchone()\n",
        "    while row:\n",
        "        print(row)\n",
        "        row = self.cursor.fetchone()\n",
        "\n",
        "  def add_driver(self, driverID, first_name, last_name, ssn, age):\n",
        "    self.cursor.execute(f\"INSERT INTO driver (DriverID, First_Name, last_name, Ssn, Gender, Age) VALUES ({driverID}, {first_name}, {last_name}, {ssn}, {age})\")\n",
        " \n",
        "  def show_passenger_name_by_tripID(self, tripID):\n",
        "    self.cursor.execute(f\"SELECT Passenger.First_Name, Passenger.last_name FROM Passenger WHERE Passenger.PassengerID in (SELECT RidePassenger.PassengerID FROM RidePassenger WHERE RidePassenger.TripID = {tripID})\")\n",
        "    row = self.cursor.fetchone()\n",
        "    while row:\n",
        "        print(row)\n",
        "        row = self.cursor.fetchone()"
      ],
      "metadata": {
        "id": "rUMuv_FTITbK"
      },
      "execution_count": 68,
      "outputs": []
    },
    {
      "cell_type": "code",
      "source": [
        "TaxiAzureDatabase = DatabaseServer()\n",
        "TaxiAzureDatabase.show_drivers()"
      ],
      "metadata": {
        "id": "uZNHv-4LbNDf"
      },
      "execution_count": null,
      "outputs": []
    },
    {
      "cell_type": "code",
      "source": [
        "rmforest = pd.read_pickle(ML_model_filepath + \"rmforest\")"
      ],
      "metadata": {
        "id": "iyWEBHxkcblE"
      },
      "execution_count": null,
      "outputs": []
    },
    {
      "cell_type": "code",
      "source": [
        "output = rmforest.predict(date, zone_number)"
      ],
      "metadata": {
        "id": "U1VT3zh0cyqC"
      },
      "execution_count": null,
      "outputs": []
    }
  ]
}